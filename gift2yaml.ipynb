{
 "cells": [
  {
   "cell_type": "code",
   "execution_count": 107,
   "metadata": {},
   "outputs": [],
   "source": [
    "import yaml, sys\n",
    "import re"
   ]
  },
  {
   "cell_type": "code",
   "execution_count": 146,
   "metadata": {},
   "outputs": [],
   "source": [
    "from html.parser import HTMLParser\n",
    "\n",
    "class MLStripper(HTMLParser):\n",
    "    def __init__(self):\n",
    "        self.reset()\n",
    "        self.strict = False\n",
    "        self.convert_charrefs= True\n",
    "        self.fed = []\n",
    "    def handle_data(self, d):\n",
    "        self.fed.append(d)\n",
    "    def get_data(self):\n",
    "        return ''.join(self.fed)\n",
    "\n",
    "def strip_tags(html):\n",
    "    s = MLStripper()\n",
    "    s.feed(html)\n",
    "    return s.get_data()"
   ]
  },
  {
   "cell_type": "code",
   "execution_count": 147,
   "metadata": {},
   "outputs": [],
   "source": [
    "file_name = \"Quiz-1-1-09-between-decimal-and-bin-fractional-numbers\"\n",
    "num_splits = 1"
   ]
  },
  {
   "cell_type": "code",
   "execution_count": 148,
   "metadata": {},
   "outputs": [],
   "source": [
    "file = open(file_name+\".txt\", 'r')\n",
    "gift_text = file.read()\n",
    "gift_text = gift_text.replace(\"\\{\", \"%%open_curly%%\")\n",
    "gift_text = gift_text.replace(\"\\}\", \"%%close_curly%%\")\n",
    "file.close()\n",
    "#print (gift_text)"
   ]
  },
  {
   "cell_type": "code",
   "execution_count": 149,
   "metadata": {},
   "outputs": [],
   "source": [
    "questionsrex = \"::(.*)::([^{]*){([^}]*)}\"\n",
    "#questionsrex = \"::(.*)::\\[(.*)\\]([^{]*){([^}]*)}\"\n",
    "answersrex = \"\\t([=~][^\\t]*)\""
   ]
  },
  {
   "cell_type": "code",
   "execution_count": 150,
   "metadata": {},
   "outputs": [
    {
     "name": "stdout",
     "output_type": "stream",
     "text": [
      "12\n",
      "[html]<p>Convert the hexadecimal number A0.6 to decimal.</p>\n"
     ]
    }
   ],
   "source": [
    "result = re.findall(questionsrex, gift_text)\n",
    "print(len(result))\n",
    "print(result[6][1])"
   ]
  },
  {
   "cell_type": "code",
   "execution_count": 151,
   "metadata": {},
   "outputs": [
    {
     "name": "stdout",
     "output_type": "stream",
     "text": [
      "#\n",
      "\t=%100%26.5625:0#\n",
      "\t=%50%26.5:0.5#\n",
      "\n",
      "#\n",
      "\t=%100%21.71875:0#\n",
      "\t=%50%21.5:0.5#\n",
      "\n",
      "#\n",
      "\t=%100%1018.5625:0#\n",
      "\t=%50%1018.5:0.5#\n",
      "\n",
      "#\n",
      "\t=%100%11010.01:0#\n",
      "\t=%50%11010.5:0.5#\n",
      "\n",
      "#\n",
      "\t=%100%10101.011:0#\n",
      "\t=%50%10101.5:0.5#\n",
      "\n",
      "#\n",
      "\t=%100%10010.1001:0#\n",
      "\t=%50%10010.5:0.5#\n",
      "\n",
      "#\n",
      "\t=%100%160.375:0#\n",
      "\t=%50%160.5:0.5#\n",
      "\n",
      "#\n",
      "\t=%100%31.4375:0#\n",
      "\t=%50%31.5:0.5#\n",
      "\n",
      "#\n",
      "\t=%100%3089.1875:0#\n",
      "\t=%50%3089.5:0.5#\n",
      "\n",
      "#\n",
      "\t=%100%59.09375:0#\n",
      "\t=%50%59.5:0.5#\n",
      "\n",
      "#\n",
      "\t=%100%111.65625:0#\n",
      "\t=%50%111.5:0.5#\n",
      "\n",
      "#\n",
      "\t=%100%152.921875:0#\n",
      "\t=%50%152.5:0.5#\n",
      "\n"
     ]
    }
   ],
   "source": [
    "qs = []\n",
    "for res in result:\n",
    "    qs.append({})\n",
    "    \n",
    "    #print (res[1])\n",
    "    res = [r.replace(\"<br>\", \" \") for r in res]\n",
    "    res = [r.replace(\"<p>\", \"\\n\") for r in res]\n",
    "    res = [r.replace(\"</p>\", \"\\n\") for r in res]\n",
    "    res = [r.replace(\"&nbsp;\", \"\\n\") for r in res]\n",
    "    res = [strip_tags(r) for r in res]\n",
    "    #print(res[1])\n",
    "    res = [r.replace(\"%%open_curly%%\", \"{\") for r in res]\n",
    "    res = [r.replace(\"%%close_curly%%\", \"}\") for r in res]\n",
    "    res = [r.replace(\"\\_\", \" \") for r in res]\n",
    "    res = [r.replace(\"[moodle]\", \"\") for r in res]\n",
    "    res = [r.replace(\"[html]\", \"\") for r in res]\n",
    "    res = [r.replace(\"[\", \"\\[\") for r in res]\n",
    "    res = [r.replace(\"]\", \"\\]\") for r in res]\n",
    "    res = [r.replace(\"\\\\\\\\\\\\hline\", \"\\\\\\\\ \\\\hline\") for r in res]\n",
    "    res = [r.replace(\"\\\\\\\\\", \"\\\\\") for r in res]\n",
    "    def replBackslash(s):\n",
    "        return s.group(0)[1:]\n",
    "    #res = [re.sub(\"\\\\\\\\\\w\", replBackslash, r) for r in res]\n",
    "    \n",
    "    \n",
    "    print(res[2])\n",
    "    qs[-1][\"answers\"] = re.findall(answersrex, res[2])\n",
    "    #res = [r.strip() for r in res]\n",
    "    \n",
    "    #print(res[1])\n",
    "    \n",
    "    qs[-1][\"name\"] = res[0]\n",
    "    qs[-1][\"question\"] = res[1]\n",
    "    \n",
    "    "
   ]
  },
  {
   "cell_type": "code",
   "execution_count": 152,
   "metadata": {},
   "outputs": [
    {
     "name": "stdout",
     "output_type": "stream",
     "text": [
      "['fractions of bin to dec 1', 'fractions of bin to dec 2', 'fractions of bin to dec 3', 'fractions of dec to bin', 'fractions of dec to bin 2', 'fractions of dec to bin 3', 'fractions of hex  to dec 2', 'fractions of hex to dec', 'fractions of hex to decimal 3', 'fractions of oct to dec 1', 'fractions of oct to dec 3', 'fractions of oct to decimal 2']\n",
      "[{'name': 'fractions of oct to dec 1', 'answers': ['=%100%59.09375:0#\\n', '=%50%59.5:0.5#\\n'], 'question': '\\nConvert the octal number 73.06 to decimal. \\n'}, {'name': 'fractions of oct to dec 3', 'answers': ['=%100%111.65625:0#\\n', '=%50%111.5:0.5#\\n'], 'question': '\\nConvert the octal number 157.52 to decimal \\n'}, {'name': 'fractions of oct to decimal 2', 'answers': ['=%100%152.921875:0#\\n', '=%50%152.5:0.5#\\n'], 'question': '\\nConvert the octal number 230.73 to decimal. \\n'}]\n"
     ]
    }
   ],
   "source": [
    "print([q['name'] for q in qs])\n",
    "qs = [q for q in qs if (q[\"name\"].find(\"fractions of oct\") >=0)]\n",
    "print(qs)"
   ]
  },
  {
   "cell_type": "code",
   "execution_count": 153,
   "metadata": {
    "scrolled": true
   },
   "outputs": [
    {
     "name": "stdout",
     "output_type": "stream",
     "text": [
      "3\n",
      "[3]\n"
     ]
    }
   ],
   "source": [
    "if num_splits == \"all\":\n",
    "    question_list = [[q] for q in qs] \n",
    "else: \n",
    "    split_size = int(len(qs)/num_splits)\n",
    "    question_list = [qs[i*split_size: (i+1)*split_size] for i in range(num_splits-1)]\n",
    "    question_list.append(qs[(num_splits-1)*split_size:])\n",
    "print(len(qs))\n",
    "print ([len(q) for q in question_list])"
   ]
  },
  {
   "cell_type": "code",
   "execution_count": 154,
   "metadata": {},
   "outputs": [
    {
     "name": "stdout",
     "output_type": "stream",
     "text": [
      "['=%100%59.09375:0#\\n', '=%50%59.5:0.5#\\n']\n",
      "100\n",
      "50\n",
      "2\n",
      "['=%100%111.65625:0#\\n', '=%50%111.5:0.5#\\n']\n",
      "100\n",
      "50\n",
      "2\n",
      "['=%100%152.921875:0#\\n', '=%50%152.5:0.5#\\n']\n",
      "100\n",
      "50\n",
      "2\n"
     ]
    }
   ],
   "source": [
    "yqs = []\n",
    "for qs in question_list:\n",
    "    yqs.append({})\n",
    "    current_variations = []\n",
    "    for q in qs :\n",
    "\n",
    "        yq = {}\n",
    "        print(q[\"answers\"])\n",
    "        #if (q[\"answers\"][0][1] == \"%\"):\n",
    "        #    yq[\"typeName\"] = \"numeric\"\n",
    "        #else:\n",
    "        yq[\"typeName\"] = \"multipleChoice\"\n",
    "        yq[\"shuffleOptions\"] = True\n",
    "        yq[\"prompt\"] = q[\"question\"].strip()#.replace(\"\\\\\\\\\\\\hline\",\"\\\\\\\\ \\\\hline\").replace(\"\\\\\\\\\",\"\\\\\")#.replace(\"YAYAYA\", \"\\\\\")\n",
    "\n",
    "        yq[\"options\"] = []\n",
    "        numCorrect = 0\n",
    "        # HACK: remove this line\n",
    "        # q[\"answers\"] = q[\"answers\"][:1]\n",
    "        for answer in q[\"answers\"]:\n",
    "            a = {}\n",
    "            answer = answer.strip()\n",
    "            answertext = answer[1:].strip().split(\"#\")\n",
    "            a[\"answer\"] = answertext[0].split(\"%\")[-1]\n",
    "            # in future need to handle this properly for numerical questions\n",
    "            a[\"answer\"] = a[\"answer\"].split(\":\")[0]\n",
    "            percentage = 0\n",
    "            if(len(answertext[0].split(\"%\")) > 1):\n",
    "               percentage = int(answertext[0].split(\"%\")[-2])\n",
    "            print(percentage)\n",
    "            if(len(answertext)>1):\n",
    "                a[\"feedback\"] = answer[1:].split(\"#\")[1]\n",
    "            a[\"isCorrect\"] = True if (answer[0] == \"=\" or percentage > 99) else False\n",
    "            if a[\"isCorrect\"] :\n",
    "                numCorrect += 1 \n",
    "            yq[\"options\"].append(a)\n",
    "        print(numCorrect)\n",
    "        if numCorrect == len(yq[\"options\"]):\n",
    "           yq[\"typeName\"] = \"text\"\n",
    "           yq[\"answers\"] = yq[\"options\"]\n",
    "           yq[\"defaultFeedback\"] = \"\"\n",
    "           del yq[\"options\"]\n",
    "        if(numCorrect > 1 and yq[\"typeName\"] == \"multipleChoice\"):\n",
    "            yq[\"typeName\"] = \"checkbox\"\n",
    "        current_variations.append(yq)\n",
    "\n",
    "    yqs[-1][\"variations\"] = current_variations\n",
    "#print (yaml.dump(yqs))\n"
   ]
  },
  {
   "cell_type": "code",
   "execution_count": 155,
   "metadata": {},
   "outputs": [],
   "source": [
    "outfile = open(file_name+\"-\"+str(num_splits)+\".yaml\", \"w\")\n",
    "yaml.dump(yqs, outfile)\n",
    "outfile.close()"
   ]
  },
  {
   "cell_type": "code",
   "execution_count": null,
   "metadata": {},
   "outputs": [],
   "source": []
  },
  {
   "cell_type": "code",
   "execution_count": null,
   "metadata": {},
   "outputs": [],
   "source": []
  },
  {
   "cell_type": "code",
   "execution_count": 52,
   "metadata": {},
   "outputs": [
    {
     "name": "stdout",
     "output_type": "stream",
     "text": [
      "[[], [], [], []]\n"
     ]
    }
   ],
   "source": [
    "# this is a bit of special code for splitting by type of question, for 1 example\n",
    "\n",
    "question_list = [[],[],[],[]]\n",
    "\n",
    "for q in qs:\n",
    "    #print(q[\"question\"])\n",
    "    result = re.search(\"in base ([0-9]*) to base ([0-9]*)\", q[\"question\"])\n",
    "    #result = re.search(\"in base [0-9]\", q[\"question\"])\n",
    "    #print (result.group(0))\n",
    "    #print (result.group(1))\n",
    "    #print (result.group(2))\n",
    "    if(result.group(1) == \"2\" and result.group(2) == \"8\"):\n",
    "        question_list[0].append(q)\n",
    "    elif (result.group(1) == \"2\" and result.group(2) == \"16\"):\n",
    "        question_list[1].append(q)\n",
    "    elif (result.group(1) == \"8\" and result.group(2) == \"2\"):\n",
    "        question_list[2].append(q)\n",
    "    elif (result.group(1) == \"16\" and result.group(2) == \"2\"):\n",
    "        question_list[3].append(q)\n",
    "    else: \n",
    "        print(\"error \" + result.group(1) + \" \" + result.group(2))\n",
    "        \n",
    "print (question_list)\n",
    "        "
   ]
  }
 ],
 "metadata": {
  "kernelspec": {
   "display_name": "Python [conda env:py35]",
   "language": "python",
   "name": "conda-env-py35-py"
  },
  "toc": {
   "nav_menu": {},
   "number_sections": true,
   "sideBar": true,
   "skip_h1_title": false,
   "title_cell": "Table of Contents",
   "title_sidebar": "Contents",
   "toc_cell": false,
   "toc_position": {},
   "toc_section_display": true,
   "toc_window_display": false
  }
 },
 "nbformat": 4,
 "nbformat_minor": 2
}
